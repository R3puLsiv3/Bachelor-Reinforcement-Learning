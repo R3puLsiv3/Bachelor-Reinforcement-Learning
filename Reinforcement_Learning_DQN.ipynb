{
  "nbformat": 4,
  "nbformat_minor": 0,
  "metadata": {
    "colab": {
      "provenance": []
    },
    "kernelspec": {
      "name": "python3",
      "display_name": "Python 3"
    },
    "language_info": {
      "name": "python"
    }
  },
  "cells": [
    {
      "cell_type": "code",
      "execution_count": null,
      "metadata": {
        "id": "6huLa0pZXoM0"
      },
      "outputs": [],
      "source": [
        "import tensorflow as tf\n",
        "import numpy as np\n",
        "import gym\n",
        "import random\n",
        "\n",
        "import time\n",
        "\n",
        "from tensorflow.keras.models import Sequential\n",
        "from tensorflow.keras.layers import Dense\n",
        "\n",
        "from collections import deque\n",
        "\n",
        "tf.compat.v1.disable_eager_execution()"
      ]
    },
    {
      "cell_type": "code",
      "source": [
        "class DQN:\n",
        "  def __init__(self, state_dim, action_dim):\n",
        "    self.state_dim = state_dim\n",
        "    self.action_dim = action_dim\n",
        "\n",
        "    self.main_model = self.create_model()\n",
        "    self.target_model = self.create_model()\n",
        "    self.target_model.set_weights(self.main_model.get_weights())\n",
        "\n",
        "    self.target_main_delta = 0\n",
        "\n",
        "  def create_model(self):\n",
        "    model = Sequential()\n",
        "\n",
        "    model.add(Dense(16, input_dim=self.state_dim, activation=\"relu\"))\n",
        "    model.add(Dense(16, activation=\"relu\"))\n",
        "    model.add(Dense(self.action_dim, activation=\"linear\"))\n",
        "\n",
        "    model.compile(optimizer=\"adam\", loss=\"mean_squared_error\")\n",
        "\n",
        "    return model\n",
        "\n",
        "  def query_main(self, states):\n",
        "    return self.main_model.predict(np.array(states), verbose=0)\n",
        "\n",
        "  def query_target(self, states):\n",
        "    return self.target_model.predict(np.array(states), verbose=0)\n",
        "\n",
        "  def update_target(self):\n",
        "    self.target_model.set_weights(self.main_model.get_weights())\n",
        "    self.target_main_delta = 0\n",
        "\n",
        "  def fit_main(self, X, y, batch_size):\n",
        "    self.main_model.fit(np.array(X), np.array(y), batch_size=batch_size, verbose=0, shuffle=False)"
      ],
      "metadata": {
        "id": "Msf_qAODql00"
      },
      "execution_count": null,
      "outputs": []
    },
    {
      "cell_type": "code",
      "source": [
        "class Memory:\n",
        "  def __init__(self, size):\n",
        "    self.size = size\n",
        "    self.replay_buffer = deque(maxlen=self.size)\n",
        "\n",
        "  def len(self):\n",
        "    return len(self.replay_buffer)\n",
        "\n",
        "  def add(self, state, action, reward, next_state, done):\n",
        "    self.replay_buffer.append((state, action, reward, next_state, done))\n",
        "\n",
        "  def sample(self, batch_size):\n",
        "    return random.sample(self.replay_buffer, batch_size)"
      ],
      "metadata": {
        "id": "yb9uEHQVt-5x"
      },
      "execution_count": null,
      "outputs": []
    },
    {
      "cell_type": "code",
      "source": [
        "class Agent:\n",
        "  def __init__(self, state_dim, action_dim, batch_size, memory_size, epsilon, min_epsilon, epsilon_decay, discount, target_update):\n",
        "    self.state_dim = state_dim\n",
        "    self.action_dim = action_dim\n",
        "    self.batch_size = batch_size\n",
        "    self.memory_size = memory_size\n",
        "    self.epsilon = epsilon\n",
        "    self.min_epsilon = min_epsilon\n",
        "    self.epsilon_decay = epsilon_decay\n",
        "    self.discount = discount\n",
        "    self.target_update = target_update\n",
        "\n",
        "    self.dqn = DQN(self.state_dim, self.action_dim)\n",
        "    self.memory = Memory(self.memory_size)\n",
        "\n",
        "  def choose_action(self, state):\n",
        "    if np.random.random() > self.epsilon:\n",
        "      state = np.reshape(state, (1, self.state_dim))\n",
        "      return np.argmax(self.dqn.query_main(state))\n",
        "    else:\n",
        "      return np.random.randint(0, self.action_dim)\n",
        "\n",
        "  def decay_epsilon(self):\n",
        "    if self.epsilon > self.min_epsilon:\n",
        "      self.epsilon *= self.epsilon_decay\n",
        "      self.epsilon = max(self.min_epsilon, self.epsilon)\n",
        "\n",
        "\n",
        "  def train(self, episode_end):\n",
        "    if self.memory.len() < self.batch_size:\n",
        "      return\n",
        "\n",
        "    batch = self.memory.sample(self.batch_size)\n",
        "\n",
        "    X = [memory[0] for memory in batch]\n",
        "    y = self.dqn.query_main(X)\n",
        "    target_qs = self.dqn.query_target([memory[3] for memory in batch])\n",
        "    for index, (state, action, reward, next_state, done) in enumerate(batch):\n",
        "      if not done:\n",
        "        target_q = np.max(target_qs[index])\n",
        "        new_q = reward + self.discount * target_q\n",
        "      else:\n",
        "        new_q = reward\n",
        "\n",
        "      y[index][action] = new_q\n",
        "    self.dqn.fit_main(X, y, self.batch_size)\n",
        "    if episode_end:\n",
        "      self.dqn.target_main_delta += 1\n",
        "\n",
        "    if self.dqn.target_main_delta % self.target_update == 0:\n",
        "      self.dqn.update_target()"
      ],
      "metadata": {
        "id": "FVQC5vIKzifw"
      },
      "execution_count": null,
      "outputs": []
    },
    {
      "cell_type": "code",
      "source": [
        "env = gym.make('MountainCar-v0')\n",
        "state_dim = env.observation_space.shape[0]\n",
        "action_dim = env.action_space.n\n",
        "\n",
        "batch_size = 64\n",
        "memory_size = 10_000\n",
        "epsilon = 1\n",
        "min_epsilon = 0.001\n",
        "epsilon_decay = 0.9995\n",
        "discount = 0.97\n",
        "target_update = 5\n",
        "\n",
        "agent = Agent(state_dim, action_dim, batch_size, memory_size, epsilon, min_epsilon, epsilon_decay, discount, target_update)\n",
        "\n",
        "num_episodes = 20_000\n",
        "\n",
        "for episode in range(num_episodes):\n",
        "  state = env.reset()\n",
        "  done = False\n",
        "  success = False\n",
        "  while not done:\n",
        "    action = agent.choose_action(state)\n",
        "\n",
        "    next_state, reward, done, _ = env.step(action)\n",
        "\n",
        "    agent.memory.add(state, action, reward, next_state, done)\n",
        "\n",
        "    state = next_state\n",
        "\n",
        "    if state[0] >= env.unwrapped.goal_position:\n",
        "            success = True\n",
        "\n",
        "  print(episode, success)\n",
        "  agent.train(done)\n",
        "\n",
        "  agent.decay_epsilon()"
      ],
      "metadata": {
        "id": "Cxmv2dE4B9Lo"
      },
      "execution_count": null,
      "outputs": []
    }
  ]
}