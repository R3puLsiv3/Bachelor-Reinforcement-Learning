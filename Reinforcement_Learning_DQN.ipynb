{
  "nbformat": 4,
  "nbformat_minor": 0,
  "metadata": {
    "colab": {
      "provenance": []
    },
    "kernelspec": {
      "name": "python3",
      "display_name": "Python 3"
    },
    "language_info": {
      "name": "python"
    }
  },
  "cells": [
    {
      "cell_type": "code",
      "execution_count": 20,
      "metadata": {
        "id": "6huLa0pZXoM0"
      },
      "outputs": [],
      "source": [
        "import tensorflow as tf\n",
        "import numpy as np\n",
        "import random\n",
        "\n",
        "from tensorflow.keras.models import Sequential\n",
        "from tensorflow.keras.layers import Dense\n",
        "\n",
        "from collections import deque"
      ]
    },
    {
      "cell_type": "code",
      "source": [
        "class DQN:\n",
        "  def __init__(self, state_dim, action_dim):\n",
        "    self.state_dim = state_dim\n",
        "    self.action_dim = action_dim\n",
        "\n",
        "    self.main_model = self.create_model()\n",
        "    self.target_model = self.create_model()\n",
        "    self.target_model.set_weights(self.main_model.get_weights())\n",
        "\n",
        "    self.target_update_delta = 0\n",
        "\n",
        "  def create_model(self):\n",
        "    model = Sequential()\n",
        "\n",
        "    model.add(Dense(16, input_dim=self.state_dim, activation=\"relu\"))\n",
        "    model.add(Dense(16, activation=\"relu\"))\n",
        "    model.add(Dense(self.action_dim, activation=\"linear\"))\n",
        "\n",
        "    model.compile(optimizer=\"adam\", loss=\"mean_squared_loss\")\n",
        "\n",
        "    return model\n",
        "\n",
        "  def query(self, state):\n",
        "    self.main_model.predict(np.array(state))"
      ],
      "metadata": {
        "id": "Msf_qAODql00"
      },
      "execution_count": 21,
      "outputs": []
    },
    {
      "cell_type": "code",
      "source": [
        "class Memory:\n",
        "  def __init__(self, size):\n",
        "    self.size = size\n",
        "    self.replay_buffer = deque(maxlen=self.size)\n",
        "\n",
        "  def add_memory(self, state, action, reward, next_state, done):\n",
        "    self.replay_buffer.append((state, action, reward, next_state, done))\n",
        "\n",
        "  def sample_memories(self, batch_size):\n",
        "    return random.sample(self.replay_buffer, batch_size)"
      ],
      "metadata": {
        "id": "yb9uEHQVt-5x"
      },
      "execution_count": 22,
      "outputs": []
    },
    {
      "cell_type": "code",
      "source": [
        "class Agent:\n",
        "  def __init__(self, state_dim, action_dim, memory_size, epsilon):\n",
        "    self.state_dim = state_dim\n",
        "    self.action_dim = action_dim\n",
        "    self.memory_size = memory_size\n",
        "    self.epsilon = epsilon\n",
        "\n",
        "    self.network = DQN(self.state_dim, self.action_dim)\n",
        "    self.memory = Memory(self.memory_size)\n",
        "\n",
        "  def choose_action(self, state):\n",
        "    if np.random.random() > self.epsilon:\n",
        "      return np.argmax(self.network.query(state))\n",
        "    else:\n",
        "      return np.random.randint(0, self.action_dim)"
      ],
      "metadata": {
        "id": "FVQC5vIKzifw"
      },
      "execution_count": 23,
      "outputs": []
    }
  ]
}